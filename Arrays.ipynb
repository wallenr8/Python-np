{
 "cells": [
  {
   "cell_type": "code",
   "execution_count": 1,
   "id": "6c970da6-8676-4dba-b1bf-2f9707f63e50",
   "metadata": {},
   "outputs": [
    {
     "name": "stdout",
     "output_type": "stream",
     "text": [
      "hello numpy\n"
     ]
    }
   ],
   "source": [
    "print(\"hello numpy\")"
   ]
  },
  {
   "cell_type": "code",
   "execution_count": 2,
   "id": "980dd4e1-2218-44a8-8b47-703eac7b0721",
   "metadata": {},
   "outputs": [
    {
     "data": {
      "text/plain": [
       "60"
      ]
     },
     "execution_count": 2,
     "metadata": {},
     "output_type": "execute_result"
    }
   ],
   "source": [
    "45+6+9\n"
   ]
  },
  {
   "cell_type": "code",
   "execution_count": 3,
   "id": "e035038b-1ce3-4da2-b8ea-012ab949e89a",
   "metadata": {},
   "outputs": [],
   "source": [
    "import numpy as np"
   ]
  },
  {
   "cell_type": "code",
   "execution_count": 6,
   "id": "8440393e-10e5-4c40-b8cb-d5090d712458",
   "metadata": {},
   "outputs": [],
   "source": [
    "i = np.array([4,5,6,7,1])"
   ]
  },
  {
   "cell_type": "code",
   "execution_count": 7,
   "id": "7bc5d101-a5f2-4775-a5e0-5e09d730c2fc",
   "metadata": {},
   "outputs": [
    {
     "name": "stdout",
     "output_type": "stream",
     "text": [
      "[4 5 6 7 1]\n"
     ]
    }
   ],
   "source": [
    "print (i)"
   ]
  },
  {
   "cell_type": "code",
   "execution_count": 13,
   "id": "eda8587b-9757-40cc-84c3-08c5a086bc28",
   "metadata": {},
   "outputs": [
    {
     "data": {
      "text/plain": [
       "1"
      ]
     },
     "execution_count": 13,
     "metadata": {},
     "output_type": "execute_result"
    }
   ],
   "source": [
    "i[4]"
   ]
  },
  {
   "cell_type": "code",
   "execution_count": 14,
   "id": "69f86843-1187-41c2-842f-1655c637a5c6",
   "metadata": {},
   "outputs": [
    {
     "data": {
      "text/plain": [
       "array([4, 5, 6, 7, 8])"
      ]
     },
     "execution_count": 14,
     "metadata": {},
     "output_type": "execute_result"
    }
   ],
   "source": [
    "i[4]=8\n",
    "i"
   ]
  },
  {
   "cell_type": "code",
   "execution_count": 21,
   "id": "f77afde7-6056-4185-8680-4b25b2fe8592",
   "metadata": {},
   "outputs": [
    {
     "data": {
      "text/plain": [
       "array([[1, 2, 3, 4, 5],\n",
       "       [9, 8, 7, 6, 5]])"
      ]
     },
     "execution_count": 21,
     "metadata": {},
     "output_type": "execute_result"
    }
   ],
   "source": [
    "numz=np.array([[1,2,3,4,5],[9,8,7,6,5]])\n",
    "numz"
   ]
  },
  {
   "cell_type": "code",
   "execution_count": 22,
   "id": "940f9831-22ee-4454-b52c-41718df969a5",
   "metadata": {},
   "outputs": [
    {
     "data": {
      "text/plain": [
       "2"
      ]
     },
     "execution_count": 22,
     "metadata": {},
     "output_type": "execute_result"
    }
   ],
   "source": [
    "numz.ndim"
   ]
  },
  {
   "cell_type": "code",
   "execution_count": 23,
   "id": "89532484-bac4-4a13-8a0c-5443720940e2",
   "metadata": {},
   "outputs": [
    {
     "data": {
      "text/plain": [
       "3"
      ]
     },
     "execution_count": 23,
     "metadata": {},
     "output_type": "execute_result"
    }
   ],
   "source": [
    "numz[0,2]"
   ]
  },
  {
   "cell_type": "code",
   "execution_count": 24,
   "id": "055f5eca-2632-47c1-a090-07b5608be520",
   "metadata": {},
   "outputs": [
    {
     "data": {
      "text/plain": [
       "[2, 4, 6, 8, 10]"
      ]
     },
     "execution_count": 24,
     "metadata": {},
     "output_type": "execute_result"
    }
   ],
   "source": [
    "listone = [2,4,6,8,10]\n",
    "listone"
   ]
  },
  {
   "cell_type": "code",
   "execution_count": 25,
   "id": "42f6c71c-b46f-4e1e-a736-a273f5ccaee3",
   "metadata": {},
   "outputs": [],
   "source": [
    "new_array=np.array(listone)"
   ]
  },
  {
   "cell_type": "code",
   "execution_count": 27,
   "id": "15cd4e2c-3066-42a1-ae64-7e309d2dcbbe",
   "metadata": {},
   "outputs": [
    {
     "data": {
      "text/plain": [
       "array([ 2,  4,  6,  8, 10])"
      ]
     },
     "execution_count": 27,
     "metadata": {},
     "output_type": "execute_result"
    }
   ],
   "source": [
    "new_array"
   ]
  },
  {
   "cell_type": "code",
   "execution_count": 28,
   "id": "31cb22a0-e03d-408e-982a-90103399025a",
   "metadata": {},
   "outputs": [
    {
     "data": {
      "text/plain": [
       "dtype('int32')"
      ]
     },
     "execution_count": 28,
     "metadata": {},
     "output_type": "execute_result"
    }
   ],
   "source": [
    "new_array.dtype"
   ]
  },
  {
   "cell_type": "code",
   "execution_count": null,
   "id": "d13e0dea-6347-4b4f-bc79-a6a09888544d",
   "metadata": {},
   "outputs": [],
   "source": []
  }
 ],
 "metadata": {
  "kernelspec": {
   "display_name": "Python 3 (ipykernel)",
   "language": "python",
   "name": "python3"
  },
  "language_info": {
   "codemirror_mode": {
    "name": "ipython",
    "version": 3
   },
   "file_extension": ".py",
   "mimetype": "text/x-python",
   "name": "python",
   "nbconvert_exporter": "python",
   "pygments_lexer": "ipython3",
   "version": "3.12.1"
  }
 },
 "nbformat": 4,
 "nbformat_minor": 5
}
