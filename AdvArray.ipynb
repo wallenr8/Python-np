{
 "cells": [
  {
   "cell_type": "code",
   "execution_count": 1,
   "id": "6efc7dca-a5f6-42ce-bafe-9304299f1821",
   "metadata": {},
   "outputs": [],
   "source": [
    "import numpy as np"
   ]
  },
  {
   "cell_type": "code",
   "execution_count": 2,
   "id": "e72121dc-accd-46c0-aa7b-bb3e10ac3c7f",
   "metadata": {},
   "outputs": [
    {
     "data": {
      "text/plain": [
       "array([ 0,  1,  2,  3,  4,  5,  6,  7,  8,  9, 10, 11, 12, 13, 14, 15, 16,\n",
       "       17, 18, 19])"
      ]
     },
     "execution_count": 2,
     "metadata": {},
     "output_type": "execute_result"
    }
   ],
   "source": [
    "int_array=np.arange(20)\n",
    "int_array"
   ]
  },
  {
   "cell_type": "code",
   "execution_count": 3,
   "id": "6114052e-b2fc-41af-9321-c4252982894c",
   "metadata": {},
   "outputs": [
    {
     "data": {
      "text/plain": [
       "array([30, 31, 32, 33, 34, 35, 36, 37, 38, 39, 40, 41, 42, 43, 44, 45, 46,\n",
       "       47, 48, 49])"
      ]
     },
     "execution_count": 3,
     "metadata": {},
     "output_type": "execute_result"
    }
   ],
   "source": [
    "secint_arr=np.arange(30,50)\n",
    "secint_arr"
   ]
  },
  {
   "cell_type": "code",
   "execution_count": 4,
   "id": "ea5b2d54-5262-4b17-8bf8-ed833e33b3b0",
   "metadata": {},
   "outputs": [
    {
     "data": {
      "text/plain": [
       "array([100, 105, 110, 115, 120, 125, 130, 135, 140, 145, 150, 155, 160,\n",
       "       165, 170, 175, 180, 185, 190, 195])"
      ]
     },
     "execution_count": 4,
     "metadata": {},
     "output_type": "execute_result"
    }
   ],
   "source": [
    "thrint_arr=np.arange(100,200,5)\n",
    "thrint_arr"
   ]
  },
  {
   "cell_type": "code",
   "execution_count": 5,
   "id": "ddd7788f-d67c-4629-816c-f554da329e49",
   "metadata": {},
   "outputs": [
    {
     "data": {
      "text/plain": [
       "array([ 1.        ,  1.18367347,  1.36734694,  1.55102041,  1.73469388,\n",
       "        1.91836735,  2.10204082,  2.28571429,  2.46938776,  2.65306122,\n",
       "        2.83673469,  3.02040816,  3.20408163,  3.3877551 ,  3.57142857,\n",
       "        3.75510204,  3.93877551,  4.12244898,  4.30612245,  4.48979592,\n",
       "        4.67346939,  4.85714286,  5.04081633,  5.2244898 ,  5.40816327,\n",
       "        5.59183673,  5.7755102 ,  5.95918367,  6.14285714,  6.32653061,\n",
       "        6.51020408,  6.69387755,  6.87755102,  7.06122449,  7.24489796,\n",
       "        7.42857143,  7.6122449 ,  7.79591837,  7.97959184,  8.16326531,\n",
       "        8.34693878,  8.53061224,  8.71428571,  8.89795918,  9.08163265,\n",
       "        9.26530612,  9.44897959,  9.63265306,  9.81632653, 10.        ])"
      ]
     },
     "execution_count": 5,
     "metadata": {},
     "output_type": "execute_result"
    }
   ],
   "source": [
    "floats_arr=np.linspace(1,10)\n",
    "floats_arr"
   ]
  },
  {
   "cell_type": "code",
   "execution_count": 6,
   "id": "d7bcf272-8de6-40db-ae87-8bfca2f74c3c",
   "metadata": {},
   "outputs": [
    {
     "data": {
      "text/plain": [
       "array([0.03102535, 0.91017281, 0.92352806, 0.16284629, 0.76606848])"
      ]
     },
     "execution_count": 6,
     "metadata": {},
     "output_type": "execute_result"
    }
   ],
   "source": [
    "first_rand_arr=np.random.rand(5)\n",
    "first_rand_arr"
   ]
  },
  {
   "cell_type": "code",
   "execution_count": 7,
   "id": "cc2f7067-6ad2-4bc2-8613-4ebbc2808f0b",
   "metadata": {},
   "outputs": [
    {
     "data": {
      "text/plain": [
       "array([[0.24455195, 0.32498099, 0.26467511, 0.21870072, 0.78102441],\n",
       "       [0.65145759, 0.17395948, 0.07892812, 0.55376643, 0.50389998],\n",
       "       [0.80870039, 0.77160665, 0.21424295, 0.67380955, 0.92909799],\n",
       "       [0.46738808, 0.97549757, 0.04761476, 0.05974002, 0.20004338],\n",
       "       [0.01541737, 0.85228696, 0.72302046, 0.3694571 , 0.91194275]])"
      ]
     },
     "execution_count": 7,
     "metadata": {},
     "output_type": "execute_result"
    }
   ],
   "source": [
    "sec_rand_arr=np.random.rand(5,5)\n",
    "sec_rand_arr\n"
   ]
  },
  {
   "cell_type": "code",
   "execution_count": null,
   "id": "57a96cdd-aa32-4eef-88c7-7b9286796408",
   "metadata": {},
   "outputs": [],
   "source": []
  }
 ],
 "metadata": {
  "kernelspec": {
   "display_name": "Python 3 (ipykernel)",
   "language": "python",
   "name": "python3"
  },
  "language_info": {
   "codemirror_mode": {
    "name": "ipython",
    "version": 3
   },
   "file_extension": ".py",
   "mimetype": "text/x-python",
   "name": "python",
   "nbconvert_exporter": "python",
   "pygments_lexer": "ipython3",
   "version": "3.12.1"
  }
 },
 "nbformat": 4,
 "nbformat_minor": 5
}
